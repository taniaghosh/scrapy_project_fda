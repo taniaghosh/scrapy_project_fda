{
 "cells": [
  {
   "cell_type": "code",
   "execution_count": 581,
   "metadata": {},
   "outputs": [],
   "source": [
    "import pandas as pd\n",
    "import numpy as np\n",
    "%matplotlib inline\n",
    "from matplotlib import pyplot as plt\n",
    "plt.style.use('ggplot')"
   ]
  },
  {
   "cell_type": "code",
   "execution_count": 582,
   "metadata": {},
   "outputs": [],
   "source": [
    "fda = pd.read_csv(\"fda1.csv\")"
   ]
  },
  {
   "cell_type": "code",
   "execution_count": 583,
   "metadata": {},
   "outputs": [
    {
     "data": {
      "text/html": [
       "<div>\n",
       "<style scoped>\n",
       "    .dataframe tbody tr th:only-of-type {\n",
       "        vertical-align: middle;\n",
       "    }\n",
       "\n",
       "    .dataframe tbody tr th {\n",
       "        vertical-align: top;\n",
       "    }\n",
       "\n",
       "    .dataframe thead th {\n",
       "        text-align: right;\n",
       "    }\n",
       "</style>\n",
       "<table border=\"1\" class=\"dataframe\">\n",
       "  <thead>\n",
       "    <tr style=\"text-align: right;\">\n",
       "      <th></th>\n",
       "      <th>RLD</th>\n",
       "      <th>RS</th>\n",
       "      <th>TE_code</th>\n",
       "      <th>active_ingredients</th>\n",
       "      <th>company</th>\n",
       "      <th>dosageform_route</th>\n",
       "      <th>drug_class</th>\n",
       "      <th>drug_name</th>\n",
       "      <th>marketing_status</th>\n",
       "      <th>review_priority</th>\n",
       "      <th>strength</th>\n",
       "      <th>use</th>\n",
       "      <th>rare</th>\n",
       "      <th>hereditary</th>\n",
       "      <th>medical_area</th>\n",
       "      <th>specific</th>\n",
       "      <th>gender</th>\n",
       "      <th>year</th>\n",
       "    </tr>\n",
       "  </thead>\n",
       "  <tbody>\n",
       "    <tr>\n",
       "      <th>0</th>\n",
       "      <td>TBD</td>\n",
       "      <td>No</td>\n",
       "      <td>None</td>\n",
       "      <td>necitumumab</td>\n",
       "      <td>ELI LILLY CO</td>\n",
       "      <td>INJECTABLE;INTRA-ARTICULAR, INTRAMUSCULAR, INT...</td>\n",
       "      <td>NaN</td>\n",
       "      <td>Portrazza</td>\n",
       "      <td>Prescription</td>\n",
       "      <td>NaN</td>\n",
       "      <td>800MG/50ML</td>\n",
       "      <td>To treat patients with advanced (metastatic) s...</td>\n",
       "      <td>no</td>\n",
       "      <td>no</td>\n",
       "      <td>cancer</td>\n",
       "      <td>Lung</td>\n",
       "      <td>adults</td>\n",
       "      <td>11/24/2015</td>\n",
       "    </tr>\n",
       "    <tr>\n",
       "      <th>1</th>\n",
       "      <td>No</td>\n",
       "      <td>No</td>\n",
       "      <td>None</td>\n",
       "      <td>elotuzumab</td>\n",
       "      <td>BRISTOL MYERS SQUIBB</td>\n",
       "      <td>INJECTABLE;INJECTION</td>\n",
       "      <td>NaN</td>\n",
       "      <td>Empliciti</td>\n",
       "      <td>Prescription</td>\n",
       "      <td>N/A; Orphan</td>\n",
       "      <td>300MG</td>\n",
       "      <td>\\n\\t\\t\\t</td>\n",
       "      <td>no</td>\n",
       "      <td>no</td>\n",
       "      <td>cancer</td>\n",
       "      <td>Myeloma</td>\n",
       "      <td>adults</td>\n",
       "      <td>11/30/2015</td>\n",
       "    </tr>\n",
       "    <tr>\n",
       "      <th>2</th>\n",
       "      <td>No</td>\n",
       "      <td>No</td>\n",
       "      <td>None</td>\n",
       "      <td>elotuzumab</td>\n",
       "      <td>BRISTOL MYERS SQUIBB</td>\n",
       "      <td>INJECTABLE;INJECTION</td>\n",
       "      <td>NaN</td>\n",
       "      <td>Empliciti</td>\n",
       "      <td>Prescription</td>\n",
       "      <td>N/A; Orphan</td>\n",
       "      <td>400MG</td>\n",
       "      <td>\\n\\t\\t\\t</td>\n",
       "      <td>no</td>\n",
       "      <td>no</td>\n",
       "      <td>cancer</td>\n",
       "      <td>Myeloma</td>\n",
       "      <td>adults</td>\n",
       "      <td>11/30/2015</td>\n",
       "    </tr>\n",
       "    <tr>\n",
       "      <th>3</th>\n",
       "      <td>No</td>\n",
       "      <td>No</td>\n",
       "      <td>None</td>\n",
       "      <td>sebelipase alfa</td>\n",
       "      <td>ALEXION PHARM</td>\n",
       "      <td>INJECTABLE;INJECTION</td>\n",
       "      <td>NaN</td>\n",
       "      <td>Kanuma</td>\n",
       "      <td>Prescription</td>\n",
       "      <td>N/A; Orphan</td>\n",
       "      <td>20MG/10ML</td>\n",
       "      <td>To treat patients with a rare disease known as...</td>\n",
       "      <td>yes</td>\n",
       "      <td>no</td>\n",
       "      <td>digestive</td>\n",
       "      <td>lipids and cholesterol metabolism</td>\n",
       "      <td>adults</td>\n",
       "      <td>12/8/2015</td>\n",
       "    </tr>\n",
       "    <tr>\n",
       "      <th>4</th>\n",
       "      <td>Yes</td>\n",
       "      <td>Yes</td>\n",
       "      <td>None</td>\n",
       "      <td>alectinib</td>\n",
       "      <td>HOFFMANN-LA ROCHE</td>\n",
       "      <td>CAPSULE;ORAL</td>\n",
       "      <td>Type 1 - New Molecular Entity</td>\n",
       "      <td>Alecensa</td>\n",
       "      <td>Prescription</td>\n",
       "      <td>PRIORITY; Orphan</td>\n",
       "      <td>EQ 150MG BASE</td>\n",
       "      <td>To treat ALK-positive lung cancer</td>\n",
       "      <td>no</td>\n",
       "      <td>no</td>\n",
       "      <td>cancer</td>\n",
       "      <td>Lung</td>\n",
       "      <td>adults</td>\n",
       "      <td>12/11/2015</td>\n",
       "    </tr>\n",
       "  </tbody>\n",
       "</table>\n",
       "</div>"
      ],
      "text/plain": [
       "   RLD   RS TE_code active_ingredients               company  \\\n",
       "0  TBD   No    None        necitumumab          ELI LILLY CO   \n",
       "1   No   No    None         elotuzumab  BRISTOL MYERS SQUIBB   \n",
       "2   No   No    None         elotuzumab  BRISTOL MYERS SQUIBB   \n",
       "3   No   No    None    sebelipase alfa         ALEXION PHARM   \n",
       "4  Yes  Yes    None          alectinib     HOFFMANN-LA ROCHE   \n",
       "\n",
       "                                    dosageform_route  \\\n",
       "0  INJECTABLE;INTRA-ARTICULAR, INTRAMUSCULAR, INT...   \n",
       "1                               INJECTABLE;INJECTION   \n",
       "2                               INJECTABLE;INJECTION   \n",
       "3                               INJECTABLE;INJECTION   \n",
       "4                                       CAPSULE;ORAL   \n",
       "\n",
       "                      drug_class  drug_name marketing_status  \\\n",
       "0                            NaN  Portrazza     Prescription   \n",
       "1                            NaN  Empliciti     Prescription   \n",
       "2                            NaN  Empliciti     Prescription   \n",
       "3                            NaN     Kanuma     Prescription   \n",
       "4  Type 1 - New Molecular Entity   Alecensa     Prescription   \n",
       "\n",
       "    review_priority       strength  \\\n",
       "0               NaN     800MG/50ML   \n",
       "1       N/A; Orphan          300MG   \n",
       "2       N/A; Orphan          400MG   \n",
       "3       N/A; Orphan      20MG/10ML   \n",
       "4  PRIORITY; Orphan  EQ 150MG BASE   \n",
       "\n",
       "                                                 use rare hereditary  \\\n",
       "0  To treat patients with advanced (metastatic) s...   no         no   \n",
       "1                                           \\n\\t\\t\\t   no         no   \n",
       "2                                           \\n\\t\\t\\t   no         no   \n",
       "3  To treat patients with a rare disease known as...  yes         no   \n",
       "4                  To treat ALK-positive lung cancer   no         no   \n",
       "\n",
       "  medical_area                           specific  gender        year  \n",
       "0       cancer                               Lung  adults  11/24/2015  \n",
       "1       cancer                            Myeloma  adults  11/30/2015  \n",
       "2       cancer                            Myeloma  adults  11/30/2015  \n",
       "3    digestive  lipids and cholesterol metabolism  adults   12/8/2015  \n",
       "4       cancer                               Lung  adults  12/11/2015  "
      ]
     },
     "execution_count": 583,
     "metadata": {},
     "output_type": "execute_result"
    }
   ],
   "source": [
    "fda.head()"
   ]
  },
  {
   "cell_type": "code",
   "execution_count": 584,
   "metadata": {},
   "outputs": [
    {
     "data": {
      "text/plain": [
       "(447, 18)"
      ]
     },
     "execution_count": 584,
     "metadata": {},
     "output_type": "execute_result"
    }
   ],
   "source": [
    "fda.shape\n"
   ]
  },
  {
   "cell_type": "code",
   "execution_count": 585,
   "metadata": {},
   "outputs": [],
   "source": [
    "column_names = [\"year\",\"drug_name\",\"active_ingredients\", \"company\",\"dosageform_route\",\"drug_class\", \"marketing_status\",\n",
    "               \"review_priority\", \"strength\", \"medical_area\",\"specific\", \"gender\", \"rare\", \"hereditary\", \"use\", \"RLD\", \n",
    "                \"RS\", \"TE_code\"]"
   ]
  },
  {
   "cell_type": "code",
   "execution_count": 586,
   "metadata": {},
   "outputs": [],
   "source": [
    "fda = fda.reindex(columns = column_names)"
   ]
  },
  {
   "cell_type": "code",
   "execution_count": 587,
   "metadata": {},
   "outputs": [
    {
     "data": {
      "text/html": [
       "<div>\n",
       "<style scoped>\n",
       "    .dataframe tbody tr th:only-of-type {\n",
       "        vertical-align: middle;\n",
       "    }\n",
       "\n",
       "    .dataframe tbody tr th {\n",
       "        vertical-align: top;\n",
       "    }\n",
       "\n",
       "    .dataframe thead th {\n",
       "        text-align: right;\n",
       "    }\n",
       "</style>\n",
       "<table border=\"1\" class=\"dataframe\">\n",
       "  <thead>\n",
       "    <tr style=\"text-align: right;\">\n",
       "      <th></th>\n",
       "      <th>year</th>\n",
       "      <th>drug_name</th>\n",
       "      <th>active_ingredients</th>\n",
       "      <th>company</th>\n",
       "      <th>dosageform_route</th>\n",
       "      <th>drug_class</th>\n",
       "      <th>marketing_status</th>\n",
       "      <th>review_priority</th>\n",
       "      <th>strength</th>\n",
       "      <th>medical_area</th>\n",
       "      <th>specific</th>\n",
       "      <th>gender</th>\n",
       "      <th>rare</th>\n",
       "      <th>hereditary</th>\n",
       "      <th>use</th>\n",
       "      <th>RLD</th>\n",
       "      <th>RS</th>\n",
       "      <th>TE_code</th>\n",
       "    </tr>\n",
       "  </thead>\n",
       "  <tbody>\n",
       "    <tr>\n",
       "      <th>0</th>\n",
       "      <td>11/24/2015</td>\n",
       "      <td>Portrazza</td>\n",
       "      <td>necitumumab</td>\n",
       "      <td>ELI LILLY CO</td>\n",
       "      <td>INJECTABLE;INTRA-ARTICULAR, INTRAMUSCULAR, INT...</td>\n",
       "      <td>NaN</td>\n",
       "      <td>Prescription</td>\n",
       "      <td>NaN</td>\n",
       "      <td>800MG/50ML</td>\n",
       "      <td>cancer</td>\n",
       "      <td>Lung</td>\n",
       "      <td>adults</td>\n",
       "      <td>no</td>\n",
       "      <td>no</td>\n",
       "      <td>To treat patients with advanced (metastatic) s...</td>\n",
       "      <td>TBD</td>\n",
       "      <td>No</td>\n",
       "      <td>None</td>\n",
       "    </tr>\n",
       "    <tr>\n",
       "      <th>1</th>\n",
       "      <td>11/30/2015</td>\n",
       "      <td>Empliciti</td>\n",
       "      <td>elotuzumab</td>\n",
       "      <td>BRISTOL MYERS SQUIBB</td>\n",
       "      <td>INJECTABLE;INJECTION</td>\n",
       "      <td>NaN</td>\n",
       "      <td>Prescription</td>\n",
       "      <td>N/A; Orphan</td>\n",
       "      <td>300MG</td>\n",
       "      <td>cancer</td>\n",
       "      <td>Myeloma</td>\n",
       "      <td>adults</td>\n",
       "      <td>no</td>\n",
       "      <td>no</td>\n",
       "      <td>\\n\\t\\t\\t</td>\n",
       "      <td>No</td>\n",
       "      <td>No</td>\n",
       "      <td>None</td>\n",
       "    </tr>\n",
       "    <tr>\n",
       "      <th>2</th>\n",
       "      <td>11/30/2015</td>\n",
       "      <td>Empliciti</td>\n",
       "      <td>elotuzumab</td>\n",
       "      <td>BRISTOL MYERS SQUIBB</td>\n",
       "      <td>INJECTABLE;INJECTION</td>\n",
       "      <td>NaN</td>\n",
       "      <td>Prescription</td>\n",
       "      <td>N/A; Orphan</td>\n",
       "      <td>400MG</td>\n",
       "      <td>cancer</td>\n",
       "      <td>Myeloma</td>\n",
       "      <td>adults</td>\n",
       "      <td>no</td>\n",
       "      <td>no</td>\n",
       "      <td>\\n\\t\\t\\t</td>\n",
       "      <td>No</td>\n",
       "      <td>No</td>\n",
       "      <td>None</td>\n",
       "    </tr>\n",
       "    <tr>\n",
       "      <th>3</th>\n",
       "      <td>12/8/2015</td>\n",
       "      <td>Kanuma</td>\n",
       "      <td>sebelipase alfa</td>\n",
       "      <td>ALEXION PHARM</td>\n",
       "      <td>INJECTABLE;INJECTION</td>\n",
       "      <td>NaN</td>\n",
       "      <td>Prescription</td>\n",
       "      <td>N/A; Orphan</td>\n",
       "      <td>20MG/10ML</td>\n",
       "      <td>digestive</td>\n",
       "      <td>lipids and cholesterol metabolism</td>\n",
       "      <td>adults</td>\n",
       "      <td>yes</td>\n",
       "      <td>no</td>\n",
       "      <td>To treat patients with a rare disease known as...</td>\n",
       "      <td>No</td>\n",
       "      <td>No</td>\n",
       "      <td>None</td>\n",
       "    </tr>\n",
       "    <tr>\n",
       "      <th>4</th>\n",
       "      <td>12/11/2015</td>\n",
       "      <td>Alecensa</td>\n",
       "      <td>alectinib</td>\n",
       "      <td>HOFFMANN-LA ROCHE</td>\n",
       "      <td>CAPSULE;ORAL</td>\n",
       "      <td>Type 1 - New Molecular Entity</td>\n",
       "      <td>Prescription</td>\n",
       "      <td>PRIORITY; Orphan</td>\n",
       "      <td>EQ 150MG BASE</td>\n",
       "      <td>cancer</td>\n",
       "      <td>Lung</td>\n",
       "      <td>adults</td>\n",
       "      <td>no</td>\n",
       "      <td>no</td>\n",
       "      <td>To treat ALK-positive lung cancer</td>\n",
       "      <td>Yes</td>\n",
       "      <td>Yes</td>\n",
       "      <td>None</td>\n",
       "    </tr>\n",
       "  </tbody>\n",
       "</table>\n",
       "</div>"
      ],
      "text/plain": [
       "         year  drug_name active_ingredients               company  \\\n",
       "0  11/24/2015  Portrazza        necitumumab          ELI LILLY CO   \n",
       "1  11/30/2015  Empliciti         elotuzumab  BRISTOL MYERS SQUIBB   \n",
       "2  11/30/2015  Empliciti         elotuzumab  BRISTOL MYERS SQUIBB   \n",
       "3   12/8/2015     Kanuma    sebelipase alfa         ALEXION PHARM   \n",
       "4  12/11/2015   Alecensa          alectinib     HOFFMANN-LA ROCHE   \n",
       "\n",
       "                                    dosageform_route  \\\n",
       "0  INJECTABLE;INTRA-ARTICULAR, INTRAMUSCULAR, INT...   \n",
       "1                               INJECTABLE;INJECTION   \n",
       "2                               INJECTABLE;INJECTION   \n",
       "3                               INJECTABLE;INJECTION   \n",
       "4                                       CAPSULE;ORAL   \n",
       "\n",
       "                      drug_class marketing_status   review_priority  \\\n",
       "0                            NaN     Prescription               NaN   \n",
       "1                            NaN     Prescription       N/A; Orphan   \n",
       "2                            NaN     Prescription       N/A; Orphan   \n",
       "3                            NaN     Prescription       N/A; Orphan   \n",
       "4  Type 1 - New Molecular Entity     Prescription  PRIORITY; Orphan   \n",
       "\n",
       "        strength medical_area                           specific  gender rare  \\\n",
       "0     800MG/50ML       cancer                               Lung  adults   no   \n",
       "1          300MG       cancer                            Myeloma  adults   no   \n",
       "2          400MG       cancer                            Myeloma  adults   no   \n",
       "3      20MG/10ML    digestive  lipids and cholesterol metabolism  adults  yes   \n",
       "4  EQ 150MG BASE       cancer                               Lung  adults   no   \n",
       "\n",
       "  hereditary                                                use  RLD   RS  \\\n",
       "0         no  To treat patients with advanced (metastatic) s...  TBD   No   \n",
       "1         no                                           \\n\\t\\t\\t   No   No   \n",
       "2         no                                           \\n\\t\\t\\t   No   No   \n",
       "3         no  To treat patients with a rare disease known as...   No   No   \n",
       "4         no                  To treat ALK-positive lung cancer  Yes  Yes   \n",
       "\n",
       "  TE_code  \n",
       "0    None  \n",
       "1    None  \n",
       "2    None  \n",
       "3    None  \n",
       "4    None  "
      ]
     },
     "execution_count": 587,
     "metadata": {},
     "output_type": "execute_result"
    }
   ],
   "source": [
    "fda.head()"
   ]
  },
  {
   "cell_type": "code",
   "execution_count": 588,
   "metadata": {},
   "outputs": [
    {
     "data": {
      "text/plain": [
       "year                  object\n",
       "drug_name             object\n",
       "active_ingredients    object\n",
       "company               object\n",
       "dosageform_route      object\n",
       "drug_class            object\n",
       "marketing_status      object\n",
       "review_priority       object\n",
       "strength              object\n",
       "medical_area          object\n",
       "specific              object\n",
       "gender                object\n",
       "rare                  object\n",
       "hereditary            object\n",
       "use                   object\n",
       "RLD                   object\n",
       "RS                    object\n",
       "TE_code               object\n",
       "dtype: object"
      ]
     },
     "execution_count": 588,
     "metadata": {},
     "output_type": "execute_result"
    }
   ],
   "source": [
    "fda.dtypes\n"
   ]
  },
  {
   "cell_type": "code",
   "execution_count": 589,
   "metadata": {},
   "outputs": [],
   "source": [
    "#change the year to datetime\n",
    "fda['year'] = pd.to_datetime(fda['year'])"
   ]
  },
  {
   "cell_type": "code",
   "execution_count": 590,
   "metadata": {},
   "outputs": [
    {
     "data": {
      "text/plain": [
       "0     2015-11-24\n",
       "1     2015-11-30\n",
       "2     2015-11-30\n",
       "3     2015-12-08\n",
       "4     2015-12-11\n",
       "         ...    \n",
       "442   2015-11-13\n",
       "443   2015-11-16\n",
       "444   2015-11-16\n",
       "445   2015-11-20\n",
       "446   2015-11-20\n",
       "Name: year, Length: 447, dtype: datetime64[ns]"
      ]
     },
     "execution_count": 590,
     "metadata": {},
     "output_type": "execute_result"
    }
   ],
   "source": [
    "fda.year"
   ]
  },
  {
   "cell_type": "code",
   "execution_count": 591,
   "metadata": {},
   "outputs": [],
   "source": [
    "#extracting the year column and assigning the year column to \n",
    "pd.DatetimeIndex(fda['year']).year\n",
    "fda['year'] = pd.DatetimeIndex(fda['year']).year"
   ]
  },
  {
   "cell_type": "code",
   "execution_count": 592,
   "metadata": {},
   "outputs": [],
   "source": [
    "#sorting the year column\n",
    "fda['year'] = fda['year'].replace([2028], 2020)\n",
    "fda = fda.sort_values(by = ['year'])\n",
    "fda = fda.reset_index()"
   ]
  },
  {
   "cell_type": "code",
   "execution_count": 593,
   "metadata": {},
   "outputs": [],
   "source": [
    "#splitting a column by first converting into column\n",
    "new = fda.dosageform_route.str.split(\";\", n = 1, expand = True)"
   ]
  },
  {
   "cell_type": "code",
   "execution_count": 594,
   "metadata": {},
   "outputs": [],
   "source": [
    "#assigning values to new two columns\n",
    "fda[\"dosage_form\"] = new[0]\n",
    "fda[\"dosage_route\"] = new[1]\n"
   ]
  },
  {
   "cell_type": "code",
   "execution_count": 595,
   "metadata": {},
   "outputs": [],
   "source": [
    "#drop original column\n",
    "fda.drop(columns = [\"dosageform_route\"], inplace = True)"
   ]
  },
  {
   "cell_type": "code",
   "execution_count": 596,
   "metadata": {},
   "outputs": [
    {
     "data": {
      "text/html": [
       "<div>\n",
       "<style scoped>\n",
       "    .dataframe tbody tr th:only-of-type {\n",
       "        vertical-align: middle;\n",
       "    }\n",
       "\n",
       "    .dataframe tbody tr th {\n",
       "        vertical-align: top;\n",
       "    }\n",
       "\n",
       "    .dataframe thead th {\n",
       "        text-align: right;\n",
       "    }\n",
       "</style>\n",
       "<table border=\"1\" class=\"dataframe\">\n",
       "  <thead>\n",
       "    <tr style=\"text-align: right;\">\n",
       "      <th></th>\n",
       "      <th>index</th>\n",
       "      <th>year</th>\n",
       "      <th>drug_name</th>\n",
       "      <th>active_ingredients</th>\n",
       "      <th>company</th>\n",
       "      <th>drug_class</th>\n",
       "      <th>marketing_status</th>\n",
       "      <th>review_priority</th>\n",
       "      <th>strength</th>\n",
       "      <th>medical_area</th>\n",
       "      <th>specific</th>\n",
       "      <th>gender</th>\n",
       "      <th>rare</th>\n",
       "      <th>hereditary</th>\n",
       "      <th>use</th>\n",
       "      <th>RLD</th>\n",
       "      <th>RS</th>\n",
       "      <th>TE_code</th>\n",
       "      <th>dosage_form</th>\n",
       "      <th>dosage_route</th>\n",
       "    </tr>\n",
       "  </thead>\n",
       "  <tbody>\n",
       "    <tr>\n",
       "      <th>0</th>\n",
       "      <td>0</td>\n",
       "      <td>2015</td>\n",
       "      <td>Portrazza</td>\n",
       "      <td>necitumumab</td>\n",
       "      <td>ELI LILLY CO</td>\n",
       "      <td>NaN</td>\n",
       "      <td>Prescription</td>\n",
       "      <td>NaN</td>\n",
       "      <td>800MG/50ML</td>\n",
       "      <td>cancer</td>\n",
       "      <td>Lung</td>\n",
       "      <td>adults</td>\n",
       "      <td>no</td>\n",
       "      <td>no</td>\n",
       "      <td>To treat patients with advanced (metastatic) s...</td>\n",
       "      <td>TBD</td>\n",
       "      <td>No</td>\n",
       "      <td>None</td>\n",
       "      <td>INJECTABLE</td>\n",
       "      <td>INTRA-ARTICULAR, INTRAMUSCULAR, INTRAVITREAL</td>\n",
       "    </tr>\n",
       "    <tr>\n",
       "      <th>1</th>\n",
       "      <td>394</td>\n",
       "      <td>2015</td>\n",
       "      <td>Corlanor</td>\n",
       "      <td>ivabradine</td>\n",
       "      <td>AMGEN INC</td>\n",
       "      <td>Type 1 - New Molecular Entity</td>\n",
       "      <td>Prescription</td>\n",
       "      <td>PRIORITY</td>\n",
       "      <td>EQ 7.5MG BASE</td>\n",
       "      <td>cardiovascular</td>\n",
       "      <td>cardiovascular</td>\n",
       "      <td>adults</td>\n",
       "      <td>no</td>\n",
       "      <td>no</td>\n",
       "      <td>To reduce hospitalization from worsening heart...</td>\n",
       "      <td>Yes</td>\n",
       "      <td>Yes</td>\n",
       "      <td>None</td>\n",
       "      <td>TABLET</td>\n",
       "      <td>ORAL</td>\n",
       "    </tr>\n",
       "    <tr>\n",
       "      <th>2</th>\n",
       "      <td>395</td>\n",
       "      <td>2015</td>\n",
       "      <td>Kybella</td>\n",
       "      <td>deoxycholic acid</td>\n",
       "      <td>KYTHERA BIOPHARMS</td>\n",
       "      <td>Type 1 - New Molecular Entity</td>\n",
       "      <td>Prescription</td>\n",
       "      <td>STANDARD</td>\n",
       "      <td>20MG/2ML (10MG/ML)</td>\n",
       "      <td>cardiovascular</td>\n",
       "      <td>cardiovascular</td>\n",
       "      <td>adults</td>\n",
       "      <td>no</td>\n",
       "      <td>no</td>\n",
       "      <td>To treat adults with moderate-to-severe fat be...</td>\n",
       "      <td>Yes</td>\n",
       "      <td>Yes</td>\n",
       "      <td>None</td>\n",
       "      <td>SOLUTION</td>\n",
       "      <td>SUBCUTANEOUS</td>\n",
       "    </tr>\n",
       "    <tr>\n",
       "      <th>3</th>\n",
       "      <td>396</td>\n",
       "      <td>2015</td>\n",
       "      <td>Viberzi</td>\n",
       "      <td>eluxadoline</td>\n",
       "      <td>ALLERGAN HOLDINGS</td>\n",
       "      <td>Type 1 - New Molecular Entity</td>\n",
       "      <td>Prescription</td>\n",
       "      <td>PRIORITY</td>\n",
       "      <td>75MG</td>\n",
       "      <td>cosmetic</td>\n",
       "      <td>chin-fat</td>\n",
       "      <td>adults</td>\n",
       "      <td>no</td>\n",
       "      <td>no</td>\n",
       "      <td>To treat irritable bowel syndrome with diarrhe...</td>\n",
       "      <td>Yes</td>\n",
       "      <td>No</td>\n",
       "      <td>None</td>\n",
       "      <td>TABLET</td>\n",
       "      <td>ORAL</td>\n",
       "    </tr>\n",
       "    <tr>\n",
       "      <th>4</th>\n",
       "      <td>397</td>\n",
       "      <td>2015</td>\n",
       "      <td>Viberzi</td>\n",
       "      <td>eluxadoline</td>\n",
       "      <td>ALLERGAN HOLDINGS</td>\n",
       "      <td>Type 1 - New Molecular Entity</td>\n",
       "      <td>Prescription</td>\n",
       "      <td>PRIORITY</td>\n",
       "      <td>100MG</td>\n",
       "      <td>digestive</td>\n",
       "      <td>diarrhea</td>\n",
       "      <td>adults</td>\n",
       "      <td>no</td>\n",
       "      <td>no</td>\n",
       "      <td>To treat irritable bowel syndrome with diarrhe...</td>\n",
       "      <td>Yes</td>\n",
       "      <td>Yes</td>\n",
       "      <td>None</td>\n",
       "      <td>TABLET</td>\n",
       "      <td>ORAL</td>\n",
       "    </tr>\n",
       "  </tbody>\n",
       "</table>\n",
       "</div>"
      ],
      "text/plain": [
       "   index  year  drug_name active_ingredients            company  \\\n",
       "0      0  2015  Portrazza        necitumumab       ELI LILLY CO   \n",
       "1    394  2015   Corlanor         ivabradine          AMGEN INC   \n",
       "2    395  2015    Kybella   deoxycholic acid  KYTHERA BIOPHARMS   \n",
       "3    396  2015    Viberzi        eluxadoline  ALLERGAN HOLDINGS   \n",
       "4    397  2015    Viberzi        eluxadoline  ALLERGAN HOLDINGS   \n",
       "\n",
       "                      drug_class marketing_status review_priority  \\\n",
       "0                            NaN     Prescription             NaN   \n",
       "1  Type 1 - New Molecular Entity     Prescription        PRIORITY   \n",
       "2  Type 1 - New Molecular Entity     Prescription        STANDARD   \n",
       "3  Type 1 - New Molecular Entity     Prescription        PRIORITY   \n",
       "4  Type 1 - New Molecular Entity     Prescription        PRIORITY   \n",
       "\n",
       "             strength    medical_area        specific  gender rare hereditary  \\\n",
       "0          800MG/50ML          cancer            Lung  adults   no         no   \n",
       "1       EQ 7.5MG BASE  cardiovascular  cardiovascular  adults   no         no   \n",
       "2  20MG/2ML (10MG/ML)  cardiovascular  cardiovascular  adults   no         no   \n",
       "3                75MG        cosmetic        chin-fat  adults   no         no   \n",
       "4               100MG       digestive        diarrhea  adults   no         no   \n",
       "\n",
       "                                                 use  RLD   RS TE_code  \\\n",
       "0  To treat patients with advanced (metastatic) s...  TBD   No    None   \n",
       "1  To reduce hospitalization from worsening heart...  Yes  Yes    None   \n",
       "2  To treat adults with moderate-to-severe fat be...  Yes  Yes    None   \n",
       "3  To treat irritable bowel syndrome with diarrhe...  Yes   No    None   \n",
       "4  To treat irritable bowel syndrome with diarrhe...  Yes  Yes    None   \n",
       "\n",
       "  dosage_form                                  dosage_route  \n",
       "0  INJECTABLE  INTRA-ARTICULAR, INTRAMUSCULAR, INTRAVITREAL  \n",
       "1      TABLET                                          ORAL  \n",
       "2    SOLUTION                                  SUBCUTANEOUS  \n",
       "3      TABLET                                          ORAL  \n",
       "4      TABLET                                          ORAL  "
      ]
     },
     "execution_count": 596,
     "metadata": {},
     "output_type": "execute_result"
    }
   ],
   "source": [
    "fda.head()\n",
    "#fda.shape"
   ]
  },
  {
   "cell_type": "code",
   "execution_count": 597,
   "metadata": {},
   "outputs": [
    {
     "data": {
      "text/plain": [
       "Text(0, 0.5, 'Number of drugs')"
      ]
     },
     "execution_count": 597,
     "metadata": {},
     "output_type": "execute_result"
    },
    {
     "data": {
      "image/png": "[encoded data removed]",
      "text/plain": [
       "<Figure size 432x288 with 1 Axes>"
      ]
     },
     "metadata": {},
     "output_type": "display_data"
    }
   ],
   "source": [
    "fda.groupby('year')['drug_name'].nunique().plot.bar()\n",
    "plt.title('Number of drugs approved by FDA since 2015')\n",
    "plt.xlabel(\"Years\")\n",
    "plt.ylabel(\"Number of drugs\")"
   ]
  },
  {
   "cell_type": "code",
   "execution_count": 598,
   "metadata": {},
   "outputs": [
    {
     "data": {
      "text/plain": [
       "year\n",
       "2015    44\n",
       "2016    23\n",
       "2017    47\n",
       "2018    58\n",
       "2019    47\n",
       "2020    54\n",
       "2021    12\n",
       "Name: drug_name, dtype: int64"
      ]
     },
     "execution_count": 598,
     "metadata": {},
     "output_type": "execute_result"
    }
   ],
   "source": [
    "fda.groupby('year')['drug_name'].nunique()"
   ]
  },
  {
   "cell_type": "code",
   "execution_count": 599,
   "metadata": {},
   "outputs": [
    {
     "data": {
      "text/plain": [
       "285"
      ]
     },
     "execution_count": 599,
     "metadata": {},
     "output_type": "execute_result"
    }
   ],
   "source": [
    "44+23+47+58+47+54+12"
   ]
  },
  {
   "cell_type": "code",
   "execution_count": 600,
   "metadata": {},
   "outputs": [],
   "source": [
    "fda['medical_area'] =fda['medical_area'].replace([\"Hereditary angioedema\", \"Hutchinson-Gilford Progeria Syndrome;\"], [\"skin\", \"metabolic\"])\n",
    "fda['medical_area'] =fda['medical_area'].replace([\"insect bite\"], [\"vector-borne diseases\"])\n"
   ]
  },
  {
   "cell_type": "code",
   "execution_count": 601,
   "metadata": {},
   "outputs": [],
   "source": [
    "fda['medical_area'] =fda['medical_area'].replace([\"mental\"], [\"mental health\"])"
   ]
  },
  {
   "cell_type": "code",
   "execution_count": 602,
   "metadata": {},
   "outputs": [],
   "source": [
    "fda['medical_area'] =fda['medical_area'].replace([\"fertility\"], [\"gynecology\"])"
   ]
  },
  {
   "cell_type": "code",
   "execution_count": 603,
   "metadata": {},
   "outputs": [],
   "source": [
    "fda['medical_area'] =fda['medical_area'].replace([\"nervous system\"], [\"neurology\"])"
   ]
  },
  {
   "cell_type": "code",
   "execution_count": 604,
   "metadata": {},
   "outputs": [
    {
     "data": {
      "text/plain": [
       "medical_area\n",
       "COVID-19                  1\n",
       "HIV                       7\n",
       "cancer                   97\n",
       "cardiovascular           32\n",
       "cosmetic                  3\n",
       "digestive                15\n",
       "ebola virus               2\n",
       "endocrinology            13\n",
       "gynecology                3\n",
       "hepatic                   4\n",
       "hepatitis C               6\n",
       "immune disease           17\n",
       "mental health            13\n",
       "metabolic                 7\n",
       "muscular                 26\n",
       "nephrology               14\n",
       "neurology                26\n",
       "other                     5\n",
       "pulmonary                 8\n",
       "skin                     10\n",
       "smallpox                  1\n",
       "vector-borne diseases    20\n",
       "Name: drug_name, dtype: int64"
      ]
     },
     "execution_count": 604,
     "metadata": {},
     "output_type": "execute_result"
    }
   ],
   "source": [
    "fda.groupby('medical_area')['drug_name'].nunique()"
   ]
  },
  {
   "cell_type": "code",
   "execution_count": 605,
   "metadata": {},
   "outputs": [
    {
     "name": "stdout",
     "output_type": "stream",
     "text": [
      "Index(['drug_name'], dtype='object')\n"
     ]
    },
    {
     "data": {
      "text/plain": [
       "pandas.core.frame.DataFrame"
      ]
     },
     "execution_count": 605,
     "metadata": {},
     "output_type": "execute_result"
    }
   ],
   "source": [
    "group1 = fda.groupby('medical_area')['drug_name'].nunique()\n",
    "drugs_per_MD = pd.DataFrame(group1)\n",
    "\n",
    "print(drugs_per_MD.columns)\n",
    "drugs_per_MD.columns = drugs_per_MD.columns.str.replace('drug_name', \"number_of_instances\")\n",
    "drugs_per_MD\n",
    "type(drugs_per_MD)"
   ]
  },
  {
   "cell_type": "code",
   "execution_count": 606,
   "metadata": {},
   "outputs": [
    {
     "data": {
      "text/plain": [
       "pandas.core.frame.DataFrame"
      ]
     },
     "execution_count": 606,
     "metadata": {},
     "output_type": "execute_result"
    }
   ],
   "source": [
    "drugs_per_MD = drugs_per_MD.reset_index()\n",
    "type(drugs_per_MD)"
   ]
  },
  {
   "cell_type": "code",
   "execution_count": 607,
   "metadata": {},
   "outputs": [
    {
     "data": {
      "text/plain": [
       "22"
      ]
     },
     "execution_count": 607,
     "metadata": {},
     "output_type": "execute_result"
    }
   ],
   "source": [
    "len(drugs_per_MD)"
   ]
  },
  {
   "cell_type": "code",
   "execution_count": 608,
   "metadata": {},
   "outputs": [
    {
     "data": {
      "text/plain": [
       "330"
      ]
     },
     "execution_count": 608,
     "metadata": {},
     "output_type": "execute_result"
    }
   ],
   "source": [
    "labels = drugs_per_MD[\"medical_area\"].tolist()\n",
    "areas = drugs_per_MD[\"number_of_instances\"].tolist()\n",
    "total = drugs_per_MD[\"number_of_instances\"].sum()\n",
    "total"
   ]
  },
  {
   "cell_type": "code",
   "execution_count": 609,
   "metadata": {},
   "outputs": [
    {
     "data": {
      "text/plain": [
       "['COVID-19',\n",
       " 'HIV',\n",
       " 'cancer',\n",
       " 'cardiovascular',\n",
       " 'cosmetic',\n",
       " 'digestive',\n",
       " 'ebola virus',\n",
       " 'endocrinology',\n",
       " 'gynecology',\n",
       " 'hepatic',\n",
       " 'hepatitis C',\n",
       " 'immune disease',\n",
       " 'mental health',\n",
       " 'metabolic',\n",
       " 'muscular',\n",
       " 'nephrology',\n",
       " 'neurology',\n",
       " 'other',\n",
       " 'pulmonary',\n",
       " 'skin',\n",
       " 'smallpox',\n",
       " 'vector-borne diseases']"
      ]
     },
     "execution_count": 609,
     "metadata": {},
     "output_type": "execute_result"
    }
   ],
   "source": [
    "labels"
   ]
  },
  {
   "cell_type": "code",
   "execution_count": 610,
   "metadata": {},
   "outputs": [
    {
     "data": {
      "text/plain": [
       "Text(0.5, 1.0, 'Number of cases per medical areas')"
      ]
     },
     "execution_count": 610,
     "metadata": {},
     "output_type": "execute_result"
    },
    {
     "data": {
      "image/png": "[encoded data removed]",
      "text/plain": [
       "<Figure size 504x504 with 1 Axes>"
      ]
     },
     "metadata": {},
     "output_type": "display_data"
    }
   ],
   "source": [
    "from matplotlib import cm\n",
    "color = [\"aqua\", \"azure\", \"sienna\", \"black\", \"blue\", \"salmon\", \"chartreuse\", \"chocolate\", \"coral\", \"crimson\", \"cyan\",\n",
    "        \"darkblue\", \"darkgreen\", \"fuchsia\", \"gold\", \"violet\", \"grey\", \"indigo\", \"orangered\", \"maroon\", \"olive\", \"orange\",\n",
    "        \"plum\", \"red\"]\n",
    "fig, ax = plt.subplots(figsize =(7,7)) \n",
    "ax.pie(drugs_per_MD[\"number_of_instances\"],labels = labels, colors = color)\n",
    "plt.legend(labels=['%s, %1.1f%%' % (l, (float(s) / total) * 100)\n",
    "            for l, s in zip(labels, areas)], bbox_to_anchor=(1.34,1), loc=\"upper left\")\n",
    "plt.title(\"Number of cases per medical areas\")"
   ]
  },
  {
   "cell_type": "code",
   "execution_count": 611,
   "metadata": {},
   "outputs": [
    {
     "data": {
      "text/plain": [
       "<matplotlib.legend.Legend at 0x7fb1936ebf10>"
      ]
     },
     "execution_count": 611,
     "metadata": {},
     "output_type": "execute_result"
    },
    {
     "data": {
      "image/png": "[encoded data removed]",
      "text/plain": [
       "<Figure size 504x504 with 1 Axes>"
      ]
     },
     "metadata": {},
     "output_type": "display_data"
    }
   ],
   "source": [
    "df = fda.groupby(['year','medical_area'])['drug_name'].nunique().unstack()\n",
    "fig, ax = plt.subplots(figsize =(7,7)) \n",
    "df.plot(kind='bar', ax = ax, color = color, stacked = True)\n",
    "plt.legend(bbox_to_anchor=(1.34,1), loc=\"upper left\")"
   ]
  },
  {
   "cell_type": "code",
   "execution_count": 612,
   "metadata": {},
   "outputs": [
    {
     "data": {
      "text/plain": [
       "Index(['index', 'year', 'drug_name', 'active_ingredients', 'company',\n",
       "       'drug_class', 'marketing_status', 'review_priority', 'strength',\n",
       "       'medical_area', 'specific', 'gender', 'rare', 'hereditary', 'use',\n",
       "       'RLD', 'RS', 'TE_code', 'dosage_form', 'dosage_route'],\n",
       "      dtype='object')"
      ]
     },
     "execution_count": 612,
     "metadata": {},
     "output_type": "execute_result"
    }
   ],
   "source": [
    "fda.columns\n"
   ]
  },
  {
   "cell_type": "code",
   "execution_count": 613,
   "metadata": {},
   "outputs": [],
   "source": [
    "a = fda[fda['medical_area'] == \"cancer\"].groupby(\"specific\")['specific'].count()\n",
    "fda[\"specific\"] = fda[\"specific\"].replace([\"Lung\", \"lung\", \"lungs\",\"thyroid\"], (\"Lung and thyroid\"))\n",
    "\n",
    "fda[\"specific\"] = fda[\"specific\"].replace(([\"Myeloma\", \"bone marrow\"]), (\"blood\"))\n",
    "fda[\"specific\"] = fda[\"specific\"].replace(([\"endocrine location\", \"imaging\"]), (\"cancer location\"))\n",
    "fda[\"specific\"] = fda[\"specific\"].replace(([\"colorectal\", \"gastroenteropancreatic\", \"gastrointestinal\"]), (\"digestive\"))\n",
    "fda[\"specific\"] = fda[\"specific\"].replace((\"neuroblastoma\"), (\"nervous system\"))\n",
    "fda[\"specific\"] = fda[\"specific\"].replace((\"muscle\"), (\"bone\"))"
   ]
  },
  {
   "cell_type": "code",
   "execution_count": 614,
   "metadata": {},
   "outputs": [
    {
     "data": {
      "text/plain": [
       "(array([ 0,  1,  2,  3,  4,  5,  6,  7,  8,  9, 10, 11, 12, 13]),\n",
       " <a list of 14 Text xticklabel objects>)"
      ]
     },
     "execution_count": 614,
     "metadata": {},
     "output_type": "execute_result"
    },
    {
     "data": {
      "image/png": "[encoded data removed]",
      "text/plain": [
       "<Figure size 432x288 with 1 Axes>"
      ]
     },
     "metadata": {},
     "output_type": "display_data"
    }
   ],
   "source": [
    "df2 = fda[fda['medical_area'] == \"cancer\"].groupby(\"specific\")['specific'].count()\n",
    "df2.plot(kind='bar', color = \"turquoise\")\n",
    "plt.title(\"Medical profile of noval drugs approved by FDA since 2015\")\n",
    "plt.xlabel(\"Medical areas\")\n",
    "plt.ylabel(\"Number of novel drugs\")\n",
    "plt.xticks(fontsize = 14)"
   ]
  },
  {
   "cell_type": "code",
   "execution_count": 615,
   "metadata": {},
   "outputs": [
    {
     "name": "stdout",
     "output_type": "stream",
     "text": [
      "283\n"
     ]
    },
    {
     "data": {
      "text/html": [
       "<div>\n",
       "<style scoped>\n",
       "    .dataframe tbody tr th:only-of-type {\n",
       "        vertical-align: middle;\n",
       "    }\n",
       "\n",
       "    .dataframe tbody tr th {\n",
       "        vertical-align: top;\n",
       "    }\n",
       "\n",
       "    .dataframe thead th {\n",
       "        text-align: right;\n",
       "    }\n",
       "</style>\n",
       "<table border=\"1\" class=\"dataframe\">\n",
       "  <thead>\n",
       "    <tr style=\"text-align: right;\">\n",
       "      <th></th>\n",
       "      <th>index</th>\n",
       "      <th>year</th>\n",
       "      <th>drug_name</th>\n",
       "      <th>active_ingredients</th>\n",
       "      <th>company</th>\n",
       "      <th>drug_class</th>\n",
       "      <th>marketing_status</th>\n",
       "      <th>review_priority</th>\n",
       "      <th>strength</th>\n",
       "      <th>medical_area</th>\n",
       "      <th>specific</th>\n",
       "      <th>gender</th>\n",
       "      <th>rare</th>\n",
       "      <th>hereditary</th>\n",
       "      <th>use</th>\n",
       "      <th>RLD</th>\n",
       "      <th>RS</th>\n",
       "      <th>TE_code</th>\n",
       "      <th>dosage_form</th>\n",
       "      <th>dosage_route</th>\n",
       "    </tr>\n",
       "  </thead>\n",
       "  <tbody>\n",
       "    <tr>\n",
       "      <th>0</th>\n",
       "      <td>0</td>\n",
       "      <td>2015</td>\n",
       "      <td>Portrazza</td>\n",
       "      <td>necitumumab</td>\n",
       "      <td>ELI LILLY CO</td>\n",
       "      <td>NaN</td>\n",
       "      <td>Prescription</td>\n",
       "      <td>NaN</td>\n",
       "      <td>800MG/50ML</td>\n",
       "      <td>cancer</td>\n",
       "      <td>Lung and thyroid</td>\n",
       "      <td>adults</td>\n",
       "      <td>no</td>\n",
       "      <td>no</td>\n",
       "      <td>To treat patients with advanced (metastatic) s...</td>\n",
       "      <td>TBD</td>\n",
       "      <td>No</td>\n",
       "      <td>None</td>\n",
       "      <td>INJECTABLE</td>\n",
       "      <td>INTRA-ARTICULAR, INTRAMUSCULAR, INTRAVITREAL</td>\n",
       "    </tr>\n",
       "    <tr>\n",
       "      <th>1</th>\n",
       "      <td>394</td>\n",
       "      <td>2015</td>\n",
       "      <td>Corlanor</td>\n",
       "      <td>ivabradine</td>\n",
       "      <td>AMGEN INC</td>\n",
       "      <td>Type 1 - New Molecular Entity</td>\n",
       "      <td>Prescription</td>\n",
       "      <td>PRIORITY</td>\n",
       "      <td>EQ 7.5MG BASE</td>\n",
       "      <td>cardiovascular</td>\n",
       "      <td>cardiovascular</td>\n",
       "      <td>adults</td>\n",
       "      <td>no</td>\n",
       "      <td>no</td>\n",
       "      <td>To reduce hospitalization from worsening heart...</td>\n",
       "      <td>Yes</td>\n",
       "      <td>Yes</td>\n",
       "      <td>None</td>\n",
       "      <td>TABLET</td>\n",
       "      <td>ORAL</td>\n",
       "    </tr>\n",
       "    <tr>\n",
       "      <th>2</th>\n",
       "      <td>395</td>\n",
       "      <td>2015</td>\n",
       "      <td>Kybella</td>\n",
       "      <td>deoxycholic acid</td>\n",
       "      <td>KYTHERA BIOPHARMS</td>\n",
       "      <td>Type 1 - New Molecular Entity</td>\n",
       "      <td>Prescription</td>\n",
       "      <td>STANDARD</td>\n",
       "      <td>20MG/2ML (10MG/ML)</td>\n",
       "      <td>cardiovascular</td>\n",
       "      <td>cardiovascular</td>\n",
       "      <td>adults</td>\n",
       "      <td>no</td>\n",
       "      <td>no</td>\n",
       "      <td>To treat adults with moderate-to-severe fat be...</td>\n",
       "      <td>Yes</td>\n",
       "      <td>Yes</td>\n",
       "      <td>None</td>\n",
       "      <td>SOLUTION</td>\n",
       "      <td>SUBCUTANEOUS</td>\n",
       "    </tr>\n",
       "    <tr>\n",
       "      <th>3</th>\n",
       "      <td>396</td>\n",
       "      <td>2015</td>\n",
       "      <td>Viberzi</td>\n",
       "      <td>eluxadoline</td>\n",
       "      <td>ALLERGAN HOLDINGS</td>\n",
       "      <td>Type 1 - New Molecular Entity</td>\n",
       "      <td>Prescription</td>\n",
       "      <td>PRIORITY</td>\n",
       "      <td>75MG</td>\n",
       "      <td>cosmetic</td>\n",
       "      <td>chin-fat</td>\n",
       "      <td>adults</td>\n",
       "      <td>no</td>\n",
       "      <td>no</td>\n",
       "      <td>To treat irritable bowel syndrome with diarrhe...</td>\n",
       "      <td>Yes</td>\n",
       "      <td>No</td>\n",
       "      <td>None</td>\n",
       "      <td>TABLET</td>\n",
       "      <td>ORAL</td>\n",
       "    </tr>\n",
       "    <tr>\n",
       "      <th>5</th>\n",
       "      <td>398</td>\n",
       "      <td>2015</td>\n",
       "      <td>Kengreal</td>\n",
       "      <td>\\n\\t\\t\\t</td>\n",
       "      <td>CHIESI</td>\n",
       "      <td>Type 1 - New Molecular Entity</td>\n",
       "      <td>Prescription</td>\n",
       "      <td>STANDARD</td>\n",
       "      <td>50MG/VIAL</td>\n",
       "      <td>digestive</td>\n",
       "      <td>diarrhea</td>\n",
       "      <td>adults</td>\n",
       "      <td>no</td>\n",
       "      <td>no</td>\n",
       "      <td>To prevent the formation of harmful blood clot...</td>\n",
       "      <td>Yes</td>\n",
       "      <td>Yes</td>\n",
       "      <td>None</td>\n",
       "      <td>POWDER</td>\n",
       "      <td>INTRAVENOUS</td>\n",
       "    </tr>\n",
       "  </tbody>\n",
       "</table>\n",
       "</div>"
      ],
      "text/plain": [
       "   index  year  drug_name active_ingredients            company  \\\n",
       "0      0  2015  Portrazza        necitumumab       ELI LILLY CO   \n",
       "1    394  2015   Corlanor         ivabradine          AMGEN INC   \n",
       "2    395  2015    Kybella   deoxycholic acid  KYTHERA BIOPHARMS   \n",
       "3    396  2015    Viberzi        eluxadoline  ALLERGAN HOLDINGS   \n",
       "5    398  2015   Kengreal           \\n\\t\\t\\t             CHIESI   \n",
       "\n",
       "                      drug_class marketing_status review_priority  \\\n",
       "0                            NaN     Prescription             NaN   \n",
       "1  Type 1 - New Molecular Entity     Prescription        PRIORITY   \n",
       "2  Type 1 - New Molecular Entity     Prescription        STANDARD   \n",
       "3  Type 1 - New Molecular Entity     Prescription        PRIORITY   \n",
       "5  Type 1 - New Molecular Entity     Prescription        STANDARD   \n",
       "\n",
       "             strength    medical_area          specific  gender rare  \\\n",
       "0          800MG/50ML          cancer  Lung and thyroid  adults   no   \n",
       "1       EQ 7.5MG BASE  cardiovascular    cardiovascular  adults   no   \n",
       "2  20MG/2ML (10MG/ML)  cardiovascular    cardiovascular  adults   no   \n",
       "3                75MG        cosmetic          chin-fat  adults   no   \n",
       "5           50MG/VIAL       digestive          diarrhea  adults   no   \n",
       "\n",
       "  hereditary                                                use  RLD   RS  \\\n",
       "0         no  To treat patients with advanced (metastatic) s...  TBD   No   \n",
       "1         no  To reduce hospitalization from worsening heart...  Yes  Yes   \n",
       "2         no  To treat adults with moderate-to-severe fat be...  Yes  Yes   \n",
       "3         no  To treat irritable bowel syndrome with diarrhe...  Yes   No   \n",
       "5         no  To prevent the formation of harmful blood clot...  Yes  Yes   \n",
       "\n",
       "  TE_code dosage_form                                  dosage_route  \n",
       "0    None  INJECTABLE  INTRA-ARTICULAR, INTRAMUSCULAR, INTRAVITREAL  \n",
       "1    None      TABLET                                          ORAL  \n",
       "2    None    SOLUTION                                  SUBCUTANEOUS  \n",
       "3    None      TABLET                                          ORAL  \n",
       "5    None      POWDER                                   INTRAVENOUS  "
      ]
     },
     "execution_count": 615,
     "metadata": {},
     "output_type": "execute_result"
    }
   ],
   "source": [
    "#removing duplicates on the basis of drug_name or getting the data with unique drug name\n",
    "fda2 = fda.drop_duplicates(subset = \"drug_name\")\n",
    "print(len(fda2))\n",
    "fda2.head()"
   ]
  },
  {
   "cell_type": "code",
   "execution_count": 616,
   "metadata": {},
   "outputs": [
    {
     "name": "stdout",
     "output_type": "stream",
     "text": [
      "44\n"
     ]
    },
    {
     "data": {
      "text/plain": [
       "7"
      ]
     },
     "execution_count": 616,
     "metadata": {},
     "output_type": "execute_result"
    }
   ],
   "source": [
    "#getting the company name of all the unique drugs. The list of company have mre than two noval drug approvals\n",
    "fda2_group = fda2.groupby([\"company\"])[\"company\"].count()\n",
    "print(len(fda2_group[fda2_group>1]))\n",
    "p = (fda2_group[fda2_group>3])\n",
    "fda2_group.max()"
   ]
  },
  {
   "cell_type": "code",
   "execution_count": 617,
   "metadata": {},
   "outputs": [
    {
     "data": {
      "text/plain": [
       "Text(0, 0.5, 'number of noval drugs approved')"
      ]
     },
     "execution_count": 617,
     "metadata": {},
     "output_type": "execute_result"
    },
    {
     "data": {
      "image/png": "[encoded data removed]",
      "text/plain": [
       "<Figure size 432x288 with 1 Axes>"
      ]
     },
     "metadata": {},
     "output_type": "display_data"
    }
   ],
   "source": [
    "p.plot(kind = 'bar', color = \"goldenrod\")\n",
    "plt.title(\"Companies with more than three Noval Drug approvals\")\n",
    "plt.xlabel(\"Companies\")\n",
    "plt.ylabel(\"number of noval drugs approved\")"
   ]
  },
  {
   "cell_type": "code",
   "execution_count": 618,
   "metadata": {},
   "outputs": [
    {
     "data": {
      "text/plain": [
       "Text(0, 0.5, 'Number of novel drugs')"
      ]
     },
     "execution_count": 618,
     "metadata": {},
     "output_type": "execute_result"
    },
    {
     "data": {
      "image/png": "[encoded data removed]",
      "text/plain": [
       "<Figure size 504x504 with 1 Axes>"
      ]
     },
     "metadata": {},
     "output_type": "display_data"
    }
   ],
   "source": [
    " df4 = fda2.groupby(\"drug_class\")[\"drug_class\"].count()\n",
    "fig, ax = plt.subplots(figsize =(7,7))    \n",
    "df4.plot(kind = \"bar\",color = \"limegreen\")\n",
    "x = (\"AA\", \"BB\", \"CC\")\n",
    "ax.set_xticklabels(x)\n",
    "#AA = Type 1 - New Molecular Entity, BB = Type 1 - New Molecular Entity and Type 4 - New Combination,\n",
    "#CC = Type 3 - New Dosage Form\t\n",
    "plt.title(\"Different Drug class for Noval Drugs\")\n",
    "plt.ylabel(\"Number of novel drugs\")"
   ]
  },
  {
   "cell_type": "code",
   "execution_count": 619,
   "metadata": {},
   "outputs": [
    {
     "data": {
      "text/html": [
       "<div>\n",
       "<style scoped>\n",
       "    .dataframe tbody tr th:only-of-type {\n",
       "        vertical-align: middle;\n",
       "    }\n",
       "\n",
       "    .dataframe tbody tr th {\n",
       "        vertical-align: top;\n",
       "    }\n",
       "\n",
       "    .dataframe thead th {\n",
       "        text-align: right;\n",
       "    }\n",
       "</style>\n",
       "<table border=\"1\" class=\"dataframe\">\n",
       "  <thead>\n",
       "    <tr style=\"text-align: right;\">\n",
       "      <th></th>\n",
       "      <th></th>\n",
       "      <th>medical_area</th>\n",
       "    </tr>\n",
       "    <tr>\n",
       "      <th>drug_class</th>\n",
       "      <th>medical_area</th>\n",
       "      <th></th>\n",
       "    </tr>\n",
       "  </thead>\n",
       "  <tbody>\n",
       "    <tr>\n",
       "      <th rowspan=\"21\" valign=\"top\">Type 1 - New Molecular Entity</th>\n",
       "      <th>COVID-19</th>\n",
       "      <td>1</td>\n",
       "    </tr>\n",
       "    <tr>\n",
       "      <th>HIV</th>\n",
       "      <td>4</td>\n",
       "    </tr>\n",
       "    <tr>\n",
       "      <th>cancer</th>\n",
       "      <td>59</td>\n",
       "    </tr>\n",
       "    <tr>\n",
       "      <th>cardiovascular</th>\n",
       "      <td>17</td>\n",
       "    </tr>\n",
       "    <tr>\n",
       "      <th>cosmetic</th>\n",
       "      <td>2</td>\n",
       "    </tr>\n",
       "    <tr>\n",
       "      <th>digestive</th>\n",
       "      <td>9</td>\n",
       "    </tr>\n",
       "    <tr>\n",
       "      <th>endocrinology</th>\n",
       "      <td>7</td>\n",
       "    </tr>\n",
       "    <tr>\n",
       "      <th>gynecology</th>\n",
       "      <td>2</td>\n",
       "    </tr>\n",
       "    <tr>\n",
       "      <th>hepatic</th>\n",
       "      <td>3</td>\n",
       "    </tr>\n",
       "    <tr>\n",
       "      <th>hepatitis C</th>\n",
       "      <td>3</td>\n",
       "    </tr>\n",
       "    <tr>\n",
       "      <th>immune disease</th>\n",
       "      <td>7</td>\n",
       "    </tr>\n",
       "    <tr>\n",
       "      <th>mental health</th>\n",
       "      <td>8</td>\n",
       "    </tr>\n",
       "    <tr>\n",
       "      <th>metabolic</th>\n",
       "      <td>3</td>\n",
       "    </tr>\n",
       "    <tr>\n",
       "      <th>muscular</th>\n",
       "      <td>14</td>\n",
       "    </tr>\n",
       "    <tr>\n",
       "      <th>nephrology</th>\n",
       "      <td>11</td>\n",
       "    </tr>\n",
       "    <tr>\n",
       "      <th>neurology</th>\n",
       "      <td>11</td>\n",
       "    </tr>\n",
       "    <tr>\n",
       "      <th>other</th>\n",
       "      <td>5</td>\n",
       "    </tr>\n",
       "    <tr>\n",
       "      <th>pulmonary</th>\n",
       "      <td>7</td>\n",
       "    </tr>\n",
       "    <tr>\n",
       "      <th>skin</th>\n",
       "      <td>5</td>\n",
       "    </tr>\n",
       "    <tr>\n",
       "      <th>smallpox</th>\n",
       "      <td>1</td>\n",
       "    </tr>\n",
       "    <tr>\n",
       "      <th>vector-borne diseases</th>\n",
       "      <td>12</td>\n",
       "    </tr>\n",
       "    <tr>\n",
       "      <th rowspan=\"9\" valign=\"top\">Type 1 - New Molecular Entity and Type 4 - New Combination</th>\n",
       "      <th>HIV</th>\n",
       "      <td>2</td>\n",
       "    </tr>\n",
       "    <tr>\n",
       "      <th>cancer</th>\n",
       "      <td>7</td>\n",
       "    </tr>\n",
       "    <tr>\n",
       "      <th>digestive</th>\n",
       "      <td>1</td>\n",
       "    </tr>\n",
       "    <tr>\n",
       "      <th>gynecology</th>\n",
       "      <td>1</td>\n",
       "    </tr>\n",
       "    <tr>\n",
       "      <th>hepatitis C</th>\n",
       "      <td>2</td>\n",
       "    </tr>\n",
       "    <tr>\n",
       "      <th>mental health</th>\n",
       "      <td>1</td>\n",
       "    </tr>\n",
       "    <tr>\n",
       "      <th>metabolic</th>\n",
       "      <td>1</td>\n",
       "    </tr>\n",
       "    <tr>\n",
       "      <th>nephrology</th>\n",
       "      <td>1</td>\n",
       "    </tr>\n",
       "    <tr>\n",
       "      <th>neurology</th>\n",
       "      <td>1</td>\n",
       "    </tr>\n",
       "    <tr>\n",
       "      <th>Type 3 - New Dosage Form</th>\n",
       "      <th>nephrology</th>\n",
       "      <td>1</td>\n",
       "    </tr>\n",
       "  </tbody>\n",
       "</table>\n",
       "</div>"
      ],
      "text/plain": [
       "                                                                          medical_area\n",
       "drug_class                                         medical_area                       \n",
       "Type 1 - New Molecular Entity                      COVID-19                          1\n",
       "                                                   HIV                               4\n",
       "                                                   cancer                           59\n",
       "                                                   cardiovascular                   17\n",
       "                                                   cosmetic                          2\n",
       "                                                   digestive                         9\n",
       "                                                   endocrinology                     7\n",
       "                                                   gynecology                        2\n",
       "                                                   hepatic                           3\n",
       "                                                   hepatitis C                       3\n",
       "                                                   immune disease                    7\n",
       "                                                   mental health                     8\n",
       "                                                   metabolic                         3\n",
       "                                                   muscular                         14\n",
       "                                                   nephrology                       11\n",
       "                                                   neurology                        11\n",
       "                                                   other                             5\n",
       "                                                   pulmonary                         7\n",
       "                                                   skin                              5\n",
       "                                                   smallpox                          1\n",
       "                                                   vector-borne diseases            12\n",
       "Type 1 - New Molecular Entity and Type 4 - New ... HIV                               2\n",
       "                                                   cancer                            7\n",
       "                                                   digestive                         1\n",
       "                                                   gynecology                        1\n",
       "                                                   hepatitis C                       2\n",
       "                                                   mental health                     1\n",
       "                                                   metabolic                         1\n",
       "                                                   nephrology                        1\n",
       "                                                   neurology                         1\n",
       "Type 3 - New Dosage Form                           nephrology                        1"
      ]
     },
     "execution_count": 619,
     "metadata": {},
     "output_type": "execute_result"
    }
   ],
   "source": [
    "fda2.groupby([\"drug_class\", \"medical_area\"]).agg({\"medical_area\" : \"count\"})"
   ]
  },
  {
   "cell_type": "code",
   "execution_count": 620,
   "metadata": {},
   "outputs": [
    {
     "ename": "SyntaxError",
     "evalue": "positional argument follows keyword argument (<ipython-input-620-765e61cd6c44>, line 3)",
     "output_type": "error",
     "traceback": [
      "\u001b[0;36m  File \u001b[0;32m\"<ipython-input-620-765e61cd6c44>\"\u001b[0;36m, line \u001b[0;32m3\u001b[0m\n\u001b[0;31m    df3.plot(kind='bar', ax = ax, color = color, stacked)\u001b[0m\n\u001b[0m                                                ^\u001b[0m\n\u001b[0;31mSyntaxError\u001b[0m\u001b[0;31m:\u001b[0m positional argument follows keyword argument\n"
     ]
    }
   ],
   "source": [
    "\n",
    "df3 = fda2.groupby(['drug_class','medical_area'])['medical_area'].count().unstack()\n",
    "fig, ax = plt.subplots(figsize =(7,7)) \n",
    "df3.plot(kind='bar', ax = ax, color = color, stacked)\n",
    "plt.legend(bbox_to_anchor=(1.34,1), loc=\"upper left\")\n",
    "x = (\"AA\", \"BB\", \"CC\",\"DD\")\n",
    "ax.set_xticklabels(x)\n",
    "#AA = Efficacy, BB = Type 1 - New Molecular Entity, CC = Type 1 - New Molecular Entity and Type 4 - New Combination,\n",
    "#DD = Type 3 - New Dosage Form\t"
   ]
  },
  {
   "cell_type": "code",
   "execution_count": 622,
   "metadata": {},
   "outputs": [
    {
     "data": {
      "text/plain": [
       "pandas.core.frame.DataFrame"
      ]
     },
     "execution_count": 622,
     "metadata": {},
     "output_type": "execute_result"
    }
   ],
   "source": [
    "drug_review = fda2.groupby(\"review_priority\")[\"review_priority\"].count()\n",
    "drug_review = pd.DataFrame(drug_review)\n",
    "\n",
    "type(drug_review)"
   ]
  },
  {
   "cell_type": "code",
   "execution_count": 623,
   "metadata": {},
   "outputs": [
    {
     "data": {
      "text/plain": [
       "review_priority\n",
       "N/A; Orphan         40\n",
       "PRIORITY            50\n",
       "PRIORITY; Orphan    86\n",
       "STANDARD            62\n",
       "STANDARD; Orphan    11\n",
       "Name: review_priority, dtype: int64"
      ]
     },
     "execution_count": 623,
     "metadata": {},
     "output_type": "execute_result"
    }
   ],
   "source": [
    "fda2.groupby(\"review_priority\")[\"review_priority\"].count()"
   ]
  },
  {
   "cell_type": "code",
   "execution_count": 624,
   "metadata": {},
   "outputs": [],
   "source": [
    "drug_review[\"no_of_cases\"] = drug_review[\"review_priority\"].to_list()\n",
    "drug_review = drug_review.drop(columns = \"review_priority\")\n"
   ]
  },
  {
   "cell_type": "code",
   "execution_count": 625,
   "metadata": {},
   "outputs": [
    {
     "data": {
      "text/html": [
       "<div>\n",
       "<style scoped>\n",
       "    .dataframe tbody tr th:only-of-type {\n",
       "        vertical-align: middle;\n",
       "    }\n",
       "\n",
       "    .dataframe tbody tr th {\n",
       "        vertical-align: top;\n",
       "    }\n",
       "\n",
       "    .dataframe thead th {\n",
       "        text-align: right;\n",
       "    }\n",
       "</style>\n",
       "<table border=\"1\" class=\"dataframe\">\n",
       "  <thead>\n",
       "    <tr style=\"text-align: right;\">\n",
       "      <th></th>\n",
       "      <th>no_of_cases</th>\n",
       "    </tr>\n",
       "    <tr>\n",
       "      <th>review_priority</th>\n",
       "      <th></th>\n",
       "    </tr>\n",
       "  </thead>\n",
       "  <tbody>\n",
       "    <tr>\n",
       "      <th>N/A; Orphan</th>\n",
       "      <td>40</td>\n",
       "    </tr>\n",
       "    <tr>\n",
       "      <th>PRIORITY</th>\n",
       "      <td>50</td>\n",
       "    </tr>\n",
       "    <tr>\n",
       "      <th>PRIORITY; Orphan</th>\n",
       "      <td>86</td>\n",
       "    </tr>\n",
       "    <tr>\n",
       "      <th>STANDARD</th>\n",
       "      <td>62</td>\n",
       "    </tr>\n",
       "    <tr>\n",
       "      <th>STANDARD; Orphan</th>\n",
       "      <td>11</td>\n",
       "    </tr>\n",
       "  </tbody>\n",
       "</table>\n",
       "</div>"
      ],
      "text/plain": [
       "                  no_of_cases\n",
       "review_priority              \n",
       "N/A; Orphan                40\n",
       "PRIORITY                   50\n",
       "PRIORITY; Orphan           86\n",
       "STANDARD                   62\n",
       "STANDARD; Orphan           11"
      ]
     },
     "execution_count": 625,
     "metadata": {},
     "output_type": "execute_result"
    }
   ],
   "source": [
    "drug_review"
   ]
  },
  {
   "cell_type": "code",
   "execution_count": 626,
   "metadata": {},
   "outputs": [],
   "source": [
    "drug_review = drug_review.reset_index()"
   ]
  },
  {
   "cell_type": "code",
   "execution_count": 627,
   "metadata": {},
   "outputs": [
    {
     "data": {
      "text/html": [
       "<div>\n",
       "<style scoped>\n",
       "    .dataframe tbody tr th:only-of-type {\n",
       "        vertical-align: middle;\n",
       "    }\n",
       "\n",
       "    .dataframe tbody tr th {\n",
       "        vertical-align: top;\n",
       "    }\n",
       "\n",
       "    .dataframe thead th {\n",
       "        text-align: right;\n",
       "    }\n",
       "</style>\n",
       "<table border=\"1\" class=\"dataframe\">\n",
       "  <thead>\n",
       "    <tr style=\"text-align: right;\">\n",
       "      <th></th>\n",
       "      <th>review_priority</th>\n",
       "      <th>no_of_cases</th>\n",
       "    </tr>\n",
       "  </thead>\n",
       "  <tbody>\n",
       "    <tr>\n",
       "      <th>0</th>\n",
       "      <td>N/A; Orphan</td>\n",
       "      <td>40</td>\n",
       "    </tr>\n",
       "    <tr>\n",
       "      <th>1</th>\n",
       "      <td>PRIORITY</td>\n",
       "      <td>50</td>\n",
       "    </tr>\n",
       "    <tr>\n",
       "      <th>2</th>\n",
       "      <td>PRIORITY; Orphan</td>\n",
       "      <td>86</td>\n",
       "    </tr>\n",
       "    <tr>\n",
       "      <th>3</th>\n",
       "      <td>STANDARD</td>\n",
       "      <td>62</td>\n",
       "    </tr>\n",
       "    <tr>\n",
       "      <th>4</th>\n",
       "      <td>STANDARD; Orphan</td>\n",
       "      <td>11</td>\n",
       "    </tr>\n",
       "  </tbody>\n",
       "</table>\n",
       "</div>"
      ],
      "text/plain": [
       "    review_priority  no_of_cases\n",
       "0       N/A; Orphan           40\n",
       "1          PRIORITY           50\n",
       "2  PRIORITY; Orphan           86\n",
       "3          STANDARD           62\n",
       "4  STANDARD; Orphan           11"
      ]
     },
     "execution_count": 627,
     "metadata": {},
     "output_type": "execute_result"
    }
   ],
   "source": [
    "drug_review"
   ]
  },
  {
   "cell_type": "code",
   "execution_count": 628,
   "metadata": {},
   "outputs": [],
   "source": [
    "drug_review[\"review_priority\"] = drug_review[\"review_priority\"].replace([\"N/A; Orphan\",\"PRIORITY; Orphan\", \"STANDARD; Orphan\"], \n",
    "                                                                   (\"Orphan\"))"
   ]
  },
  {
   "cell_type": "code",
   "execution_count": 629,
   "metadata": {},
   "outputs": [
    {
     "data": {
      "text/html": [
       "<div>\n",
       "<style scoped>\n",
       "    .dataframe tbody tr th:only-of-type {\n",
       "        vertical-align: middle;\n",
       "    }\n",
       "\n",
       "    .dataframe tbody tr th {\n",
       "        vertical-align: top;\n",
       "    }\n",
       "\n",
       "    .dataframe thead th {\n",
       "        text-align: right;\n",
       "    }\n",
       "</style>\n",
       "<table border=\"1\" class=\"dataframe\">\n",
       "  <thead>\n",
       "    <tr style=\"text-align: right;\">\n",
       "      <th></th>\n",
       "      <th>review_priority</th>\n",
       "      <th>no_of_cases</th>\n",
       "    </tr>\n",
       "  </thead>\n",
       "  <tbody>\n",
       "    <tr>\n",
       "      <th>0</th>\n",
       "      <td>Orphan</td>\n",
       "      <td>40</td>\n",
       "    </tr>\n",
       "    <tr>\n",
       "      <th>1</th>\n",
       "      <td>PRIORITY</td>\n",
       "      <td>50</td>\n",
       "    </tr>\n",
       "    <tr>\n",
       "      <th>2</th>\n",
       "      <td>Orphan</td>\n",
       "      <td>86</td>\n",
       "    </tr>\n",
       "    <tr>\n",
       "      <th>3</th>\n",
       "      <td>STANDARD</td>\n",
       "      <td>62</td>\n",
       "    </tr>\n",
       "    <tr>\n",
       "      <th>4</th>\n",
       "      <td>Orphan</td>\n",
       "      <td>11</td>\n",
       "    </tr>\n",
       "  </tbody>\n",
       "</table>\n",
       "</div>"
      ],
      "text/plain": [
       "  review_priority  no_of_cases\n",
       "0          Orphan           40\n",
       "1        PRIORITY           50\n",
       "2          Orphan           86\n",
       "3        STANDARD           62\n",
       "4          Orphan           11"
      ]
     },
     "execution_count": 629,
     "metadata": {},
     "output_type": "execute_result"
    }
   ],
   "source": [
    "drug_review"
   ]
  },
  {
   "cell_type": "code",
   "execution_count": 630,
   "metadata": {},
   "outputs": [],
   "source": [
    "a = drug_review.groupby(\"review_priority\")[\"no_of_cases\"].sum()"
   ]
  },
  {
   "cell_type": "code",
   "execution_count": 631,
   "metadata": {},
   "outputs": [
    {
     "data": {
      "text/plain": [
       "<matplotlib.axes._subplots.AxesSubplot at 0x7fb193d00d90>"
      ]
     },
     "execution_count": 631,
     "metadata": {},
     "output_type": "execute_result"
    },
    {
     "data": {
      "image/png": "[encoded data removed]",
      "text/plain": [
       "<Figure size 504x504 with 1 Axes>"
      ]
     },
     "metadata": {},
     "output_type": "display_data"
    }
   ],
   "source": [
    "explode = (0.1, 0, 0)\n",
    "a.plot.pie(autopct='%1.1f%%',figsize=(7,7),explode = explode)"
   ]
  },
  {
   "cell_type": "code",
   "execution_count": 632,
   "metadata": {},
   "outputs": [],
   "source": [
    "subset = fda2[fda2[\"review_priority\"].isin(['N/A; Orphan', 'PRIORITY; Orphan', 'STANDARD; Orphan'])]"
   ]
  },
  {
   "cell_type": "code",
   "execution_count": null,
   "metadata": {},
   "outputs": [],
   "source": []
  }
 ],
 "metadata": {
  "kernelspec": {
   "display_name": "Python 3",
   "language": "python",
   "name": "python3"
  },
  "language_info": {
   "codemirror_mode": {
    "name": "ipython",
    "version": 3
   },
   "file_extension": ".py",
   "mimetype": "text/x-python",
   "name": "python",
   "nbconvert_exporter": "python",
   "pygments_lexer": "ipython3",
   "version": "3.7.4"
  }
 },
 "nbformat": 4,
 "nbformat_minor": 4
}
